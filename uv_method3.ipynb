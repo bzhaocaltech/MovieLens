{
 "cells": [
  {
   "cell_type": "markdown",
   "metadata": {},
   "source": [
    "Here, we try to use SVD to for our predictions. In SVD, set Y = U x S x V.T. \n",
    "\n",
    "U is a m x k matrix representing the feature vectors in some unknown space corresponding to the user\n",
    "\n",
    "V.T is a k x m matrix representing the feature vectors in some unknown space corresponding to the movies\n",
    "\n",
    "S is a k x k diagonal matrix is akin to a sort of a \"scaling\" factor for each of the unknown feature dimensions.\n",
    "\n",
    "This implmentation is heavily based off of https://cambridgespark.com/content/tutorials/implementing-your-own-recommender-systems-in-Python/index.html which was provided in the project2.pptx. Much of the code in this\n",
    "implementation came from that site, although a few minor modifications were made to suit this project."
   ]
  },
  {
   "cell_type": "code",
   "execution_count": 1,
   "metadata": {},
   "outputs": [],
   "source": [
    "import scipy.sparse as sp\n",
    "from scipy.sparse.linalg import svds\n",
    "import pickle\n",
    "import numpy as np"
   ]
  },
  {
   "cell_type": "code",
   "execution_count": 2,
   "metadata": {},
   "outputs": [],
   "source": [
    "# Import the data\n",
    "Y_train = pickle.load((open(\"data/y_train.p\", \"rb\")))\n",
    "Y_test = pickle.load((open(\"data/y_test.p\", \"rb\")))\n",
    "\n",
    "num_users = max(max(Y_train[:,0]), max(Y_test[:,0])).astype(int)\n",
    "num_movies = max(max(Y_train[:,1]), max(Y_test[:,1])).astype(int)"
   ]
  },
  {
   "cell_type": "code",
   "execution_count": 3,
   "metadata": {},
   "outputs": [],
   "source": [
    "# Create the training matrix of known points\n",
    "training_matrix = np.zeros((num_users, num_movies))\n",
    "for user, movie, Yij in Y_train:\n",
    "    training_matrix[user - 1][movie - 1] = Yij\n",
    "\n",
    "# Create the test matrix by same method\n",
    "test_matrix = np.zeros((num_users, num_movies))\n",
    "for user, movie, Yij, in Y_test:\n",
    "    test_matrix[user - 1][movie - 1] = Yij"
   ]
  },
  {
   "cell_type": "code",
   "execution_count": 6,
   "metadata": {},
   "outputs": [],
   "source": [
    "# Gets the mean squared error between two matrices. Predictions is a dense matrix while\n",
    "# actual is a sparse matrix represented by a 1D vector of tuples in the form (i, j, Yij)\n",
    "def get_err(predictions, actual):\n",
    "    err = 0\n",
    "    for user, movie, Yij in actual:\n",
    "        err += 0.5 * ((Yij - predictions[user - 1][movie - 1]) ** 2)\n",
    "    return err / len(actual)"
   ]
  },
  {
   "cell_type": "code",
   "execution_count": 7,
   "metadata": {},
   "outputs": [
    {
     "name": "stdout",
     "output_type": "stream",
     "text": [
      "Mean squared in sample error was determined to be 2.4833788027802512\n",
      "Mean squared out of sample error was determined to be 3.1310127156459466\n"
     ]
    }
   ],
   "source": [
    "# Do the SVD\n",
    "U, S, V = svds(training_matrix, k = 20)\n",
    "s_diag = np.diag(S)\n",
    "\n",
    "# Get the predictions and find E_in and E_out\n",
    "Y_pred = np.dot(np.dot(U, s_diag), V)\n",
    "E_in = get_err(Y_pred, Y_train)\n",
    "E_out = get_err(Y_pred, Y_test)\n",
    "\n",
    "print(\"Mean squared in sample error was determined to be \" + str(E_in))\n",
    "print(\"Mean squared out of sample error was determined to be \" + str(E_out))"
   ]
  },
  {
   "cell_type": "code",
   "execution_count": 8,
   "metadata": {},
   "outputs": [
    {
     "name": "stdout",
     "output_type": "stream",
     "text": [
      "U is: \n",
      "[[-0.0294572   0.02126707 -0.01676204 ...  0.04468681  0.01665304\n",
      "  -0.07882847]\n",
      " [ 0.02872727 -0.01648492  0.01507433 ...  0.0022922   0.02876654\n",
      "  -0.00834073]\n",
      " [ 0.09958267  0.00031876  0.00460181 ...  0.01187261  0.00460046\n",
      "  -0.02471898]\n",
      " ...\n",
      " [ 0.00532886 -0.05162523 -0.02484103 ... -0.00641867 -0.02251532\n",
      "   0.06118871]\n",
      " [-0.00646452  0.04947412  0.02738109 ...  0.02807787 -0.0081022\n",
      "   0.00675117]\n",
      " [ 0.06858009  0.01456516  0.00619795 ...  0.00839252  0.02389851\n",
      "   0.04082959]]\n",
      "V is: \n",
      "[[-1.03083330e-02 -4.58842540e-02  1.50523556e-02 ...  1.47819672e-02\n",
      "   9.26171052e-02  9.78700296e-02]\n",
      " [ 9.79796043e-03 -3.29048301e-02  2.81282526e-03 ...  6.43509404e-02\n",
      "   3.70110538e-03  3.53071809e-02]\n",
      " [-5.17887985e-02  8.13820678e-03 -1.10328026e-02 ...  1.13746252e-02\n",
      "   2.70581195e-02  1.92372756e-02]\n",
      " ...\n",
      " [-9.21480226e-04  1.33031796e-04 -1.09347307e-04 ... -5.94434363e-04\n",
      "   5.10081390e-04  3.50995852e-05]\n",
      " [ 1.40381080e-03  1.54253189e-03  1.27155574e-03 ...  6.60396035e-04\n",
      "  -8.18333632e-05  3.76607079e-04]\n",
      " [-3.76491445e-03  1.04975515e-03  1.41332310e-03 ...  3.22627259e-04\n",
      "  -3.12961813e-04  3.60137496e-04]]\n"
     ]
    }
   ],
   "source": [
    "print(\"U is: \")\n",
    "print(U.T)\n",
    "print(\"V is: \")\n",
    "print(V.T)"
   ]
  },
  {
   "cell_type": "code",
   "execution_count": null,
   "metadata": {},
   "outputs": [],
   "source": []
  }
 ],
 "metadata": {
  "kernelspec": {
   "display_name": "Python 3",
   "language": "python",
   "name": "python3"
  },
  "language_info": {
   "codemirror_mode": {
    "name": "ipython",
    "version": 3
   },
   "file_extension": ".py",
   "mimetype": "text/x-python",
   "name": "python",
   "nbconvert_exporter": "python",
   "pygments_lexer": "ipython3",
   "version": "3.5.2"
  }
 },
 "nbformat": 4,
 "nbformat_minor": 2
}
