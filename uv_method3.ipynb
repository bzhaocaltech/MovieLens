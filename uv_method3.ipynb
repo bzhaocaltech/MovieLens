{
 "cells": [
  {
   "cell_type": "markdown",
   "metadata": {},
   "source": [
    "Here, we try to use SVD to for our predictions. In SVD, set Y = U x S x V.T. \n",
    "\n",
    "U is a m x k matrix representing the feature vectors in some unknown space corresponding to the user\n",
    "\n",
    "V.T is a k x m matrix representing the feature vectors in some unknown space corresponding to the movies\n",
    "\n",
    "S is a k x k diagonal matrix is akin to a sort of a \"scaling\" factor for each of the unknown feature dimensions.\n",
    "\n",
    "This implmentation is heavily based off of https://cambridgespark.com/content/tutorials/implementing-your-own-recommender-systems-in-Python/index.html which was provided in the project2.pptx. Much of the code in this\n",
    "implementation came from that site, although a few minor modifications were made to suit this project."
   ]
  },
  {
   "cell_type": "code",
   "execution_count": 1,
   "metadata": {},
   "outputs": [],
   "source": [
    "import scipy.sparse as sp\n",
    "from scipy.sparse.linalg import svds\n",
    "import pickle\n",
    "import numpy as np"
   ]
  },
  {
   "cell_type": "code",
   "execution_count": 2,
   "metadata": {},
   "outputs": [],
   "source": [
    "# Import the data\n",
    "Y_train = pickle.load((open(\"data/y_train.p\", \"rb\")))\n",
    "Y_test = pickle.load((open(\"data/y_test.p\", \"rb\")))\n",
    "\n",
    "num_users = max(max(Y_train[:,0]), max(Y_test[:,0])).astype(int)\n",
    "num_movies = max(max(Y_train[:,1]), max(Y_test[:,1])).astype(int)"
   ]
  },
  {
   "cell_type": "code",
   "execution_count": 3,
   "metadata": {},
   "outputs": [],
   "source": [
    "# Create the training matrix of known points\n",
    "training_matrix = np.zeros((num_users, num_movies))\n",
    "for user, movie, Yij in Y_train:\n",
    "    training_matrix[user - 1][movie - 1] = Yij\n",
    "\n",
    "# Create the test matrix by same method\n",
    "test_matrix = np.zeros((num_users, num_movies))\n",
    "for user, movie, Yij, in Y_train:\n",
    "    test_matrix[user - 1][movie - 1] = Yij"
   ]
  },
  {
   "cell_type": "code",
   "execution_count": 4,
   "metadata": {},
   "outputs": [],
   "source": [
    "# Gets the mean squared error between two matrices. Predictions is a dense matrix while\n",
    "# actual is a sparse matrix represented by a 1D vector of tuples in the form (i, j, Yij)\n",
    "def get_err(predicitons, actual):\n",
    "    err = 0\n",
    "    for user, movie, Yij in actual:\n",
    "        err += 0.5 * ((Yij - predicitons[user - 1][movie - 1]) ** 2)\n",
    "    return err / len(actual)"
   ]
  },
  {
   "cell_type": "code",
   "execution_count": 5,
   "metadata": {},
   "outputs": [
    {
     "name": "stdout",
     "output_type": "stream",
     "text": [
      "In sample error was determined to be 2.483378802780253\n",
      "Out of sample error was determined to be 3.1310127156459444\n"
     ]
    }
   ],
   "source": [
    "# Do the SVD\n",
    "U, S, V = svds(training_matrix, k = 20)\n",
    "s_diag = np.diag(S)\n",
    "\n",
    "# Get the predictions and find E_in and E_out\n",
    "Y_pred = np.dot(np.dot(U, s_diag), V)\n",
    "E_in = get_err(Y_pred, Y_train)\n",
    "E_out = get_err(Y_pred, Y_test)\n",
    "\n",
    "print(\"Mean squared in sample error was determined to be \" + str(E_in))\n",
    "print(\"Mean squared out of sample error was determined to be \" + str(E_out))"
   ]
  },
  {
   "cell_type": "code",
   "execution_count": null,
   "metadata": {},
   "outputs": [],
   "source": []
  }
 ],
 "metadata": {
  "kernelspec": {
   "display_name": "Python 3",
   "language": "python",
   "name": "python3"
  },
  "language_info": {
   "codemirror_mode": {
    "name": "ipython",
    "version": 3
   },
   "file_extension": ".py",
   "mimetype": "text/x-python",
   "name": "python",
   "nbconvert_exporter": "python",
   "pygments_lexer": "ipython3",
   "version": "3.5.2"
  }
 },
 "nbformat": 4,
 "nbformat_minor": 2
}
