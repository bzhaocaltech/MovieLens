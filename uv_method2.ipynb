{
 "cells": [
  {
   "cell_type": "code",
   "execution_count": 1,
   "metadata": {
    "collapsed": true
   },
   "outputs": [],
   "source": [
    "# method 2 for determining the matrices U and V (bias/offset terms)\n",
    "import matplotlib.pyplot as plt\n",
    "%matplotlib inline\n",
    "\n",
    "import numpy as np\n",
    "from method1utils import train_model, get_err"
   ]
  },
  {
   "cell_type": "code",
   "execution_count": 2,
   "metadata": {},
   "outputs": [
    {
     "name": "stdout",
     "output_type": "stream",
     "text": [
      "Factorizing with  943  users,  1682  movies.\n",
      "Epoch 1, E_in (regularized MSE): 0.5239265531\n",
      "Epoch 2, E_in (regularized MSE): 0.404920173026\n",
      "Epoch 3, E_in (regularized MSE): 0.359017376358\n",
      "Epoch 4, E_in (regularized MSE): 0.330247365656\n",
      "Epoch 5, E_in (regularized MSE): 0.309501839065\n",
      "Epoch 6, E_in (regularized MSE): 0.29859989016\n",
      "Epoch 7, E_in (regularized MSE): 0.283356153963\n",
      "Epoch 8, E_in (regularized MSE): 0.275315172218\n",
      "Epoch 9, E_in (regularized MSE): 0.267604660103\n",
      "Epoch 10, E_in (regularized MSE): 0.259680006956\n",
      "Epoch 11, E_in (regularized MSE): 0.256838437398\n",
      "Epoch 12, E_in (regularized MSE): 0.252416784676\n",
      "Epoch 13, E_in (regularized MSE): 0.251804836301\n",
      "U: \n",
      "[[-0.30146058  0.28427172  0.21822519 ...,  0.25991065 -0.47592208\n",
      "  -0.36278385]\n",
      " [-0.31420878 -0.01913362  0.570645   ...,  0.45730661 -0.3153311\n",
      "   0.19532025]\n",
      " [-0.35277512 -0.32250025 -0.62151724 ..., -0.65404583  0.23930916\n",
      "  -0.42407396]\n",
      " ..., \n",
      " [-0.28595443 -0.30195219  0.42113568 ...,  0.32185395 -0.31780873\n",
      "   0.38332916]\n",
      " [ 0.5768005  -0.06017252 -0.16818062 ..., -0.14493376  0.23828095\n",
      "   0.21433502]\n",
      " [ 0.67386214 -0.289439    0.28961773 ...,  0.42700935 -0.3146709\n",
      "   0.35063911]]\n",
      "V: \n",
      "[[ 0.76171272  0.42090458 -0.16890127 ..., -0.26520509  0.60074787\n",
      "  -0.37935517]\n",
      " [ 1.07222995  0.32505317 -0.85965172 ..., -0.15119562  0.06354231\n",
      "   0.41734829]\n",
      " [ 0.47236157  0.49161703  0.1977472  ..., -0.39933631  0.28214266\n",
      "   0.05700715]\n",
      " ..., \n",
      " [ 0.68418576  0.37361953  0.11134389 ...,  0.06487099  0.34807052\n",
      "  -0.29327047]\n",
      " [-1.25396315  0.03452174  0.26242964 ...,  0.22133258 -0.14840105\n",
      "   0.05660108]\n",
      " [ 0.93132338  0.1651229  -1.04424555 ..., -0.46097821  0.02954436\n",
      "  -0.04924838]]\n"
     ]
    }
   ],
   "source": [
    "\n",
    "def main():\n",
    "    Y_train = np.loadtxt('data/train.txt').astype(int)\n",
    "    Y_test = np.loadtxt('data/test.txt').astype(int)\n",
    "\n",
    "    M = max(max(Y_train[:,0]), max(Y_test[:,0])).astype(int) # users\n",
    "    N = max(max(Y_train[:,1]), max(Y_test[:,1])).astype(int) # movies\n",
    "    print(\"Factorizing with \", M, \" users, \", N, \" movies.\")\n",
    "\n",
    "    reg = 0.0\n",
    "    eta = 0.03 # learning rate\n",
    "    E_in = []\n",
    "    E_out = []\n",
    "\n",
    "    K = 20\n",
    "    y_sum = 0.0\n",
    "    count = 0.0\n",
    "    a = np.zeros(M)\n",
    "    a_counts = np.ones(M)\n",
    "    b = np.zeros(N)\n",
    "    b_counts = np.ones(N)\n",
    "    for (i,j,Yij) in Y:\n",
    "        y_sum += Yij\n",
    "        a[i] += i\n",
    "        a_counts[i] += 1\n",
    "        b[j] += j\n",
    "        b_counts[j] += 1\n",
    "        count += 1\n",
    "    mu = y_sum / count # average Y of all observations in Y\n",
    "    for i in range(M):\n",
    "        a[i] /= a_counts[i] # a is the user average\n",
    "    for j in range(N):\n",
    "        b[j] /= b_counts[j] # b is the movie average\n",
    "    \n",
    "    U,V, err = train_model(M, N, K, eta, reg, Y_train)\n",
    "    E_in.append(err)\n",
    "    E_out.append(get_err(U, V, Y_test))\n",
    "    print(\"U: \")\n",
    "    print(U)\n",
    "    print(\"V: \")\n",
    "    print(V)\n",
    "\n",
    "\n",
    "   \n",
    "\n",
    "if __name__ == \"__main__\":\n",
    "    main()\n"
   ]
  },
  {
   "cell_type": "code",
   "execution_count": null,
   "metadata": {
    "collapsed": true
   },
   "outputs": [],
   "source": []
  }
 ],
 "metadata": {
  "kernelspec": {
   "display_name": "Python 3",
   "language": "python",
   "name": "python3"
  },
  "language_info": {
   "codemirror_mode": {
    "name": "ipython",
    "version": 3
   },
   "file_extension": ".py",
   "mimetype": "text/x-python",
   "name": "python",
   "nbconvert_exporter": "python",
   "pygments_lexer": "ipython3",
   "version": "3.6.2"
  }
 },
 "nbformat": 4,
 "nbformat_minor": 2
}
